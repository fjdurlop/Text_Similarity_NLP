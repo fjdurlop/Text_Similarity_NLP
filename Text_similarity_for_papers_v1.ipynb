{
 "cells": [
  {
   "attachments": {},
   "cell_type": "markdown",
   "id": "15813c89",
   "metadata": {},
   "source": [
    "# Final project NLP\n",
    "\n",
    "## Text similarity using scientific papers\n",
    "\n",
    "## Proposed project pipeline\n",
    "\n",
    "\t1. Get automatically text from PDF\n",
    "\t\n",
    "\tTokenization\n",
    "\t\n",
    "\tText Cleaning\n",
    "\t\n",
    "\t\n",
    "\tVectorization\n",
    "\tFeature engineering step\n",
    "\t\n",
    "\tThen \n",
    "\t\tAI algorithms\n",
    "\t\tSimilarities\n",
    "\t\t\n",
    "\tRepresent results\n",
    "\t\n",
    "\tInterpret results\n"
   ]
  },
  {
   "cell_type": "code",
   "execution_count": null,
   "id": "231805e6",
   "metadata": {},
   "outputs": [],
   "source": []
  }
 ],
 "metadata": {
  "kernelspec": {
   "display_name": "Python 3",
   "language": "python",
   "name": "python3"
  },
  "language_info": {
   "codemirror_mode": {
    "name": "ipython",
    "version": 3
   },
   "file_extension": ".py",
   "mimetype": "text/x-python",
   "name": "python",
   "nbconvert_exporter": "python",
   "pygments_lexer": "ipython3",
   "version": "3.8.8"
  }
 },
 "nbformat": 4,
 "nbformat_minor": 5
}
